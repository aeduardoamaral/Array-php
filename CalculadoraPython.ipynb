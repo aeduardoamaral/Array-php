{
  "nbformat": 4,
  "nbformat_minor": 0,
  "metadata": {
    "colab": {
      "name": "CalculadoraPython",
      "provenance": [],
      "collapsed_sections": [],
      "authorship_tag": "ABX9TyOQlFpADf/iQ/HafUgNQYEy",
      "include_colab_link": true
    },
    "kernelspec": {
      "name": "python3",
      "display_name": "Python 3"
    }
  },
  "cells": [
    {
      "cell_type": "markdown",
      "metadata": {
        "id": "view-in-github",
        "colab_type": "text"
      },
      "source": [
        "<a href=\"https://colab.research.google.com/github/aeduardoamaral/Array-php/blob/master/CalculadoraPython.ipynb\" target=\"_parent\"><img src=\"https://colab.research.google.com/assets/colab-badge.svg\" alt=\"Open In Colab\"/></a>"
      ]
    },
    {
      "cell_type": "code",
      "metadata": {
        "id": "S3JwvR06DyIA",
        "colab_type": "code",
        "colab": {}
      },
      "source": [
        "import os\n",
        "import sys"
      ],
      "execution_count": 0,
      "outputs": []
    },
    {
      "cell_type": "markdown",
      "metadata": {
        "id": "M8n8L0M_i9oB",
        "colab_type": "text"
      },
      "source": [
        "# New Section"
      ]
    },
    {
      "cell_type": "code",
      "metadata": {
        "id": "IpYjqXEH48VI",
        "colab_type": "code",
        "outputId": "dc94a81e-e7bf-4835-aa8c-d01420093a60",
        "colab": {
          "base_uri": "https://localhost:8080/",
          "height": 402
        }
      },
      "source": [
        "while True:\n",
        "\n",
        "\n",
        "  print (\" CALCULADORA SIMPLES \")\n",
        "\n",
        "  a =int(input(\"ENTRE COM O PRIMEIRO NÚMERO: \"))\n",
        "  if (a==str):\n",
        "      os.system('cls')\n",
        "  o =str(input (\" entre com o operador (+) (-) (*) (/):   \"))\n",
        "  if o!='+'or o!='-' or o!='*'or o!='/':\n",
        "     os.system('cls')\n",
        "  b =int (input(\"ENTRE COM O SEGUNDO NÚMERO:   \"))\n",
        "  if (b==str):\n",
        "      os.system('clear')\n",
        "  \n",
        "  if (o =='+'):\n",
        "      soma() \n",
        "  \n",
        "\n",
        "  if (o =='-'):\n",
        "      sub()\n",
        "    \n",
        "\n",
        "  if (o =='*'):\n",
        "      multi()\n",
        "  \n",
        "        \n",
        "  if (o =='/'):\n",
        "      div()  "
      ],
      "execution_count": 0,
      "outputs": [
        {
          "output_type": "stream",
          "text": [
            " CALCULADORA SIMPLES \n",
            "ENTRE COM O PRIMEIRO NÚMERO: 10\n",
            " entre com o operador (+) (-) (*) (/):   10\n",
            "ENTRE COM O SEGUNDO NÚMERO:   10\n",
            " CALCULADORA SIMPLES \n",
            "ENTRE COM O PRIMEIRO NÚMERO: 10\n",
            " entre com o operador (+) (-) (*) (/):   ;\n",
            "ENTRE COM O SEGUNDO NÚMERO:   10\n",
            " CALCULADORA SIMPLES \n",
            "ENTRE COM O PRIMEIRO NÚMERO: 10\n",
            " entre com o operador (+) (-) (*) (/):   /\n",
            "ENTRE COM O SEGUNDO NÚMERO:   10\n",
            "1.0\n",
            " CALCULADORA SIMPLES \n",
            "ENTRE COM O PRIMEIRO NÚMERO: 3000\n",
            " entre com o operador (+) (-) (*) (/):   *\n",
            "ENTRE COM O SEGUNDO NÚMERO:   1000\n",
            "3000000\n",
            " CALCULADORA SIMPLES \n"
          ],
          "name": "stdout"
        }
      ]
    },
    {
      "cell_type": "code",
      "metadata": {
        "id": "lZYBMq6uA85-",
        "colab_type": "code",
        "colab": {}
      },
      "source": [
        "def soma():\n",
        "  result = a + b\n",
        "  print(result) \n",
        "def sub():\n",
        "  result = a - b\n",
        "  print(result)\n",
        "def multi():\n",
        "  result = a * b\n",
        "  print(result)\n",
        "def div():\n",
        "  result = a / b\n",
        "  print(result)  "
      ],
      "execution_count": 0,
      "outputs": []
    }
  ]
}